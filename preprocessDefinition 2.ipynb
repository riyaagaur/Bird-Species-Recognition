{
  "nbformat": 4,
  "nbformat_minor": 0,
  "metadata": {
    "colab": {
      "provenance": []
    },
    "kernelspec": {
      "name": "python3",
      "display_name": "Python 3"
    },
    "language_info": {
      "name": "python"
    }
  },
  "cells": [
    {
      "cell_type": "code",
      "source": [
        "import tensorflow as tf\n",
        "from tensorflow import keras\n",
        "import numpy as np"
      ],
      "metadata": {
        "id": "p77eMXUV5pDf"
      },
      "execution_count": 8,
      "outputs": []
    },
    {
      "cell_type": "code",
      "source": [
        "base_model = keras.applications.xception.Xception(weights='imagenet', include_top=True)\n",
        "\n",
        "# Replace the file path with the testing dataset\n",
        "raw_dataset = tf.data.TFRecordDataset(['birds-20-eachOf-358.tfrecords'])\n",
        "\n",
        "feature_description = {\n",
        "    'image': tf.io.FixedLenFeature([], tf.string),\n",
        "    'birdType': tf.io.FixedLenFeature([], tf.int64)\n",
        "}\n",
        "\n",
        "def parse_examples(serialized_examples):\n",
        "    examples = tf.io.parse_example(serialized_examples, feature_description)\n",
        "    targets = examples['birdType']\n",
        "    images = tf.image.resize_with_pad(tf.cast(tf.io.decode_jpeg(examples['image'], channels=3), tf.float32), 299, 299)\n",
        "    return images, targets\n",
        "\n",
        "dataset = ('/content/drive/MyDrive/birds-20-eachOf-358.tfrecords')\n",
        "dataset = raw_dataset.map(parse_examples, num_parallel_calls=10).batch(128)"
      ],
      "metadata": {
        "id": "aXvaN0ND5tz8"
      },
      "execution_count": 13,
      "outputs": []
    },
    {
      "cell_type": "code",
      "source": [
        "# Calculate the dataset size manually\n",
        "dataset_size = tf.data.experimental.cardinality(dataset).numpy()\n",
        "\n",
        "# Data for the validation set\n",
        "raw_dataset1 = tf.data.TFRecordDataset(['birds-10-eachOf-358.tfrecords'])\n",
        "\n",
        "dataset1 = ('/content/drive/MyDrive/birds-10-eachOf-358.tfrecords')\n",
        "dataset1 = raw_dataset1.map(parse_examples, num_parallel_calls=10).batch(128)"
      ],
      "metadata": {
        "id": "Bre_0x0-5zHf"
      },
      "execution_count": 14,
      "outputs": []
    },
    {
      "cell_type": "code",
      "source": [
        "# Calculate the dataset size manually for the validation set\n",
        "dataset_size1 = tf.data.experimental.cardinality(dataset1).numpy()\n",
        "\n",
        "# Split the dataset into train and test sets\n",
        "train_size = int(0.7 * dataset_size)\n",
        "valid_size = int(dataset_size1)\n",
        "test_size = dataset_size - train_size\n",
        "\n",
        "trainset = dataset.take(train_size)\n",
        "validset = dataset1.take(valid_size)\n",
        "testset = dataset.skip(train_size)\n",
        "\n",
        "# Print the number of samples in each set\n",
        "print(\"Train set size:\", train_size)\n",
        "print(\"Validation set size:\", valid_size)\n",
        "print(\"Test set size:\", test_size)\n",
        "\n",
        "\n",
        "print(\"Train set size:\", train_size)\n",
        "print(\"Validation set size:\", valid_size)\n",
        "print(\"Test set size:\", test_size)\n",
        "\n",
        "\n",
        "def preprocessWithAspectRatio(image, label):\n",
        "    resized_image = tf.image.resize_with_pad(image, 299, 299)\n",
        "    final_image = keras.applications.xception.preprocess_input(resized_image)\n",
        "    return final_image, label\n",
        "\n",
        "trainPipe = trainset.map(preprocessWithAspectRatio, num_parallel_calls=20).batch(10)\n",
        "validPipe = validset.map(preprocessWithAspectRatio, num_parallel_calls=20).batch(10)\n",
        "testPipe = testset.map(preprocessWithAspectRatio, num_parallel_calls=20).batch(10)\n",
        "\n",
        "base_model = keras.applications.xception.Xception(weights='imagenet', include_top=False)\n",
        "\n",
        "avg = keras.layers.GlobalAveragePooling2D()(base_model.output)\n",
        "output = keras.layers.Dense(358, activation=\"softmax\")(avg)\n",
        "model = keras.models.Model(inputs=base_model.input, outputs=output)\n",
        "\n",
        "\n",
        "# Freezing the bottom layers of the model\n",
        "for layer in base_model.layers:\n",
        "    layer.trainable = False\n",
        "\n",
        "# Setting training parameters\n",
        "checkpoint_cb = keras.callbacks.ModelCheckpoint('model1.h5', save_best_only=True)\n",
        "earlyStop_cb = keras.callbacks.EarlyStopping(patience=10, restore_best_weights=True)\n",
        "learning_rate = 5e-1\n",
        "optimizer = keras.optimizers.SGD(learning_rate=learning_rate)\n",
        "\n",
        "model.compile(loss=\"sparse_categorical_crossentropy\",optimizer=optimizer, metrics=[\"accuracy\"]) \n",
        "model.fit(trainPipe,validation_data=validPipe,epochs=5, callbacks=[checkpoint_cb,earlyStop_cb])\n",
        "\n",
        "\n",
        "model1.save('preprocessing.h5')\n",
        "# Load the model you saved\n",
        "model = tf.keras.models.load_model('preprocessing.h5')\n",
        "\n",
        "# Ensure the metrics included are the ones we wish to evaluate\n",
        "top5err = tf.keras.metrics.SparseTopKCategoricalAccuracy(k=5, name='top5')\n",
        "top10err = tf.keras.metrics.SparseTopKCategoricalAccuracy(k=10, name='top10')\n",
        "top20err = tf.keras.metrics.SparseTopKCategoricalAccuracy(k=20, name='top20')\n",
        "model.compile(loss='sparse_categorical_crossentropy', optimizer=optimizer, metrics=['accuracy', top5err, top10err, top20err])\n",
        "\n",
        "# Returns the loss and metrics evaluated on the dataset\n",
        "resp = model.evaluate(dataset)\n",
        "\n",
        "\n",
        "\n",
        "\n"
      ],
      "metadata": {
        "colab": {
          "base_uri": "https://localhost:8080/",
          "height": 1000
        },
        "id": "WnLfYduZhPH7",
        "outputId": "40f51df9-3b9f-4536-c85c-56a8c273ccf3"
      },
      "execution_count": 15,
      "outputs": [
        {
          "output_type": "stream",
          "name": "stdout",
          "text": [
            "Train set size: -1\n",
            "Validation set size: -2\n",
            "Test set size: -1\n",
            "Train set size: -1\n",
            "Validation set size: -2\n",
            "Test set size: -1\n",
            "Epoch 1/5\n"
          ]
        },
        {
          "output_type": "error",
          "ename": "ValueError",
          "evalue": "ignored",
          "traceback": [
            "\u001b[0;31m---------------------------------------------------------------------------\u001b[0m",
            "\u001b[0;31mValueError\u001b[0m                                Traceback (most recent call last)",
            "\u001b[0;32m<ipython-input-15-ae8dd9874b8a>\u001b[0m in \u001b[0;36m<cell line: 51>\u001b[0;34m()\u001b[0m\n\u001b[1;32m     49\u001b[0m \u001b[0;34m\u001b[0m\u001b[0m\n\u001b[1;32m     50\u001b[0m \u001b[0mmodel\u001b[0m\u001b[0;34m.\u001b[0m\u001b[0mcompile\u001b[0m\u001b[0;34m(\u001b[0m\u001b[0mloss\u001b[0m\u001b[0;34m=\u001b[0m\u001b[0;34m\"sparse_categorical_crossentropy\"\u001b[0m\u001b[0;34m,\u001b[0m\u001b[0moptimizer\u001b[0m\u001b[0;34m=\u001b[0m\u001b[0moptimizer\u001b[0m\u001b[0;34m,\u001b[0m \u001b[0mmetrics\u001b[0m\u001b[0;34m=\u001b[0m\u001b[0;34m[\u001b[0m\u001b[0;34m\"accuracy\"\u001b[0m\u001b[0;34m]\u001b[0m\u001b[0;34m)\u001b[0m\u001b[0;34m\u001b[0m\u001b[0;34m\u001b[0m\u001b[0m\n\u001b[0;32m---> 51\u001b[0;31m \u001b[0mmodel\u001b[0m\u001b[0;34m.\u001b[0m\u001b[0mfit\u001b[0m\u001b[0;34m(\u001b[0m\u001b[0mtrainPipe\u001b[0m\u001b[0;34m,\u001b[0m\u001b[0mvalidation_data\u001b[0m\u001b[0;34m=\u001b[0m\u001b[0mvalidPipe\u001b[0m\u001b[0;34m,\u001b[0m\u001b[0mepochs\u001b[0m\u001b[0;34m=\u001b[0m\u001b[0;36m5\u001b[0m\u001b[0;34m,\u001b[0m \u001b[0mcallbacks\u001b[0m\u001b[0;34m=\u001b[0m\u001b[0;34m[\u001b[0m\u001b[0mcheckpoint_cb\u001b[0m\u001b[0;34m,\u001b[0m\u001b[0mearlyStop_cb\u001b[0m\u001b[0;34m]\u001b[0m\u001b[0;34m)\u001b[0m\u001b[0;34m\u001b[0m\u001b[0;34m\u001b[0m\u001b[0m\n\u001b[0m\u001b[1;32m     52\u001b[0m \u001b[0;34m\u001b[0m\u001b[0m\n\u001b[1;32m     53\u001b[0m \u001b[0;34m\u001b[0m\u001b[0m\n",
            "\u001b[0;32m/usr/local/lib/python3.10/dist-packages/keras/utils/traceback_utils.py\u001b[0m in \u001b[0;36merror_handler\u001b[0;34m(*args, **kwargs)\u001b[0m\n\u001b[1;32m     68\u001b[0m             \u001b[0;31m# To get the full stack trace, call:\u001b[0m\u001b[0;34m\u001b[0m\u001b[0;34m\u001b[0m\u001b[0m\n\u001b[1;32m     69\u001b[0m             \u001b[0;31m# `tf.debugging.disable_traceback_filtering()`\u001b[0m\u001b[0;34m\u001b[0m\u001b[0;34m\u001b[0m\u001b[0m\n\u001b[0;32m---> 70\u001b[0;31m             \u001b[0;32mraise\u001b[0m \u001b[0me\u001b[0m\u001b[0;34m.\u001b[0m\u001b[0mwith_traceback\u001b[0m\u001b[0;34m(\u001b[0m\u001b[0mfiltered_tb\u001b[0m\u001b[0;34m)\u001b[0m \u001b[0;32mfrom\u001b[0m \u001b[0;32mNone\u001b[0m\u001b[0;34m\u001b[0m\u001b[0;34m\u001b[0m\u001b[0m\n\u001b[0m\u001b[1;32m     71\u001b[0m         \u001b[0;32mfinally\u001b[0m\u001b[0;34m:\u001b[0m\u001b[0;34m\u001b[0m\u001b[0;34m\u001b[0m\u001b[0m\n\u001b[1;32m     72\u001b[0m             \u001b[0;32mdel\u001b[0m \u001b[0mfiltered_tb\u001b[0m\u001b[0;34m\u001b[0m\u001b[0;34m\u001b[0m\u001b[0m\n",
            "\u001b[0;32m/usr/local/lib/python3.10/dist-packages/keras/engine/training.py\u001b[0m in \u001b[0;36mtf__train_function\u001b[0;34m(iterator)\u001b[0m\n\u001b[1;32m     13\u001b[0m                 \u001b[0;32mtry\u001b[0m\u001b[0;34m:\u001b[0m\u001b[0;34m\u001b[0m\u001b[0;34m\u001b[0m\u001b[0m\n\u001b[1;32m     14\u001b[0m                     \u001b[0mdo_return\u001b[0m \u001b[0;34m=\u001b[0m \u001b[0;32mTrue\u001b[0m\u001b[0;34m\u001b[0m\u001b[0;34m\u001b[0m\u001b[0m\n\u001b[0;32m---> 15\u001b[0;31m                     \u001b[0mretval_\u001b[0m \u001b[0;34m=\u001b[0m \u001b[0mag__\u001b[0m\u001b[0;34m.\u001b[0m\u001b[0mconverted_call\u001b[0m\u001b[0;34m(\u001b[0m\u001b[0mag__\u001b[0m\u001b[0;34m.\u001b[0m\u001b[0mld\u001b[0m\u001b[0;34m(\u001b[0m\u001b[0mstep_function\u001b[0m\u001b[0;34m)\u001b[0m\u001b[0;34m,\u001b[0m \u001b[0;34m(\u001b[0m\u001b[0mag__\u001b[0m\u001b[0;34m.\u001b[0m\u001b[0mld\u001b[0m\u001b[0;34m(\u001b[0m\u001b[0mself\u001b[0m\u001b[0;34m)\u001b[0m\u001b[0;34m,\u001b[0m \u001b[0mag__\u001b[0m\u001b[0;34m.\u001b[0m\u001b[0mld\u001b[0m\u001b[0;34m(\u001b[0m\u001b[0miterator\u001b[0m\u001b[0;34m)\u001b[0m\u001b[0;34m)\u001b[0m\u001b[0;34m,\u001b[0m \u001b[0;32mNone\u001b[0m\u001b[0;34m,\u001b[0m \u001b[0mfscope\u001b[0m\u001b[0;34m)\u001b[0m\u001b[0;34m\u001b[0m\u001b[0;34m\u001b[0m\u001b[0m\n\u001b[0m\u001b[1;32m     16\u001b[0m                 \u001b[0;32mexcept\u001b[0m\u001b[0;34m:\u001b[0m\u001b[0;34m\u001b[0m\u001b[0;34m\u001b[0m\u001b[0m\n\u001b[1;32m     17\u001b[0m                     \u001b[0mdo_return\u001b[0m \u001b[0;34m=\u001b[0m \u001b[0;32mFalse\u001b[0m\u001b[0;34m\u001b[0m\u001b[0;34m\u001b[0m\u001b[0m\n",
            "\u001b[0;31mValueError\u001b[0m: in user code:\n\n    File \"/usr/local/lib/python3.10/dist-packages/keras/engine/training.py\", line 1284, in train_function  *\n        return step_function(self, iterator)\n    File \"/usr/local/lib/python3.10/dist-packages/keras/engine/training.py\", line 1268, in step_function  **\n        outputs = model.distribute_strategy.run(run_step, args=(data,))\n    File \"/usr/local/lib/python3.10/dist-packages/keras/engine/training.py\", line 1249, in run_step  **\n        outputs = model.train_step(data)\n    File \"/usr/local/lib/python3.10/dist-packages/keras/engine/training.py\", line 1050, in train_step\n        y_pred = self(x, training=True)\n    File \"/usr/local/lib/python3.10/dist-packages/keras/utils/traceback_utils.py\", line 70, in error_handler\n        raise e.with_traceback(filtered_tb) from None\n    File \"/usr/local/lib/python3.10/dist-packages/keras/engine/input_spec.py\", line 298, in assert_input_compatibility\n        raise ValueError(\n\n    ValueError: Input 0 of layer \"model_4\" is incompatible with the layer: expected shape=(None, None, None, 3), found shape=(None, None, 299, 299, 3)\n"
          ]
        }
      ]
    },
    {
      "cell_type": "code",
      "source": [],
      "metadata": {
        "id": "2SVJIqTmjsAm"
      },
      "execution_count": null,
      "outputs": []
    }
  ]
}